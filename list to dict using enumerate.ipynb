{
  "nbformat": 4,
  "nbformat_minor": 0,
  "metadata": {
    "colab": {
      "provenance": []
    },
    "kernelspec": {
      "name": "python3",
      "display_name": "Python 3"
    },
    "language_info": {
      "name": "python"
    }
  },
  "cells": [
    {
      "cell_type": "code",
      "execution_count": 1,
      "metadata": {
        "colab": {
          "base_uri": "https://localhost:8080/"
        },
        "id": "A_CDMkT1p2Rq",
        "outputId": "168869be-d47a-4270-f459-9cd5cb689baa"
      },
      "outputs": [
        {
          "output_type": "stream",
          "name": "stdout",
          "text": [
            "{0: 1, 1: 2, 2: 3, 3: 4, 4: 5, 5: 6}\n"
          ]
        }
      ],
      "source": [
        "list=[1,2,3,4,5,6]\n",
        "v={index: value for index, value in enumerate(list)}\n",
        "print(v)"
      ]
    }
  ]
}
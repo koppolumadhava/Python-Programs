{
  "nbformat": 4,
  "nbformat_minor": 0,
  "metadata": {
    "colab": {
      "provenance": []
    },
    "kernelspec": {
      "name": "python3",
      "display_name": "Python 3"
    },
    "language_info": {
      "name": "python"
    }
  },
  "cells": [
    {
      "cell_type": "code",
      "execution_count": 7,
      "metadata": {
        "colab": {
          "base_uri": "https://localhost:8080/"
        },
        "id": "WSzt5236F0Dq",
        "outputId": "50871676-6a48-4d0e-e0ce-6c2b11c0cf73"
      },
      "outputs": [
        {
          "output_type": "stream",
          "name": "stdout",
          "text": [
            "[2, 4]\n"
          ]
        }
      ],
      "source": [
        "l = [1, 2, 3, 4]\n",
        "def fun(num):\n",
        "    return num % 2 == 0\n",
        "\n",
        "list2 = filter(fun, l)\n",
        "print(list(list2))\n",
        ""
      ]
    }
  ]
}
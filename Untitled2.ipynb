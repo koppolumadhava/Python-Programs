{
  "nbformat": 4,
  "nbformat_minor": 0,
  "metadata": {
    "colab": {
      "provenance": []
    },
    "kernelspec": {
      "name": "python3",
      "display_name": "Python 3"
    },
    "language_info": {
      "name": "python"
    }
  },
  "cells": [
    {
      "cell_type": "code",
      "execution_count": 1,
      "metadata": {
        "colab": {
          "base_uri": "https://localhost:8080/"
        },
        "id": "FLZq5uH9KtLu",
        "outputId": "7bb97449-37c7-43c5-e873-cf38458baf9b"
      },
      "outputs": [
        {
          "output_type": "stream",
          "name": "stdout",
          "text": [
            "[1, 4, 9, 16]\n"
          ]
        }
      ],
      "source": [
        "l1=[1,2,3,4]\n",
        "l2=[]\n",
        "for i in l1:\n",
        "  l2.append(i**2)\n",
        "print(l2)"
      ]
    }
  ]
}